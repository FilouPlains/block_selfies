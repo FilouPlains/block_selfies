{
 "cells": [
  {
   "cell_type": "code",
   "execution_count": 1,
   "metadata": {},
   "outputs": [],
   "source": [
    "import selfies as sf\n",
    "import time\n",
    "from rdkit import Chem\n",
    "from rdkit.Chem import AllChem\n",
    "from rdkit.DataStructs.cDataStructs import TanimotoSimilarity\n",
    "import os\n",
    "import sys\n",
    "import numpy as np\n",
    "from numba import jit,njit,prange,vectorize,int64,float64, guvectorize\n",
    "\n",
    "from functools import partial\n",
    "import multiprocessing as mp"
   ]
  },
  {
   "cell_type": "code",
   "execution_count": 2,
   "metadata": {},
   "outputs": [],
   "source": [
    "def selfies_split(selfies):\n",
    "    return selfies.replace(']', '] ').split()\n",
    "    \n",
    "def tokens2int_array(selfies_tokens, vocab_stoi):\n",
    "    return np.array([vocab_stoi[token] for token in selfies_tokens])\n",
    "\n",
    "def int_array2tokens(int_array,vocab_itos):\n",
    "    return [vocab_itos[int_token]for int_token in int_array]\n",
    "\n",
    "def int_array2selfies(int_array,vocab_itos):\n",
    "    return \"\".join(int_array2tokens(int_array,vocab_itos))\n",
    "\n",
    "\n",
    "def smi2ECFP4(smi):\n",
    "    ''' compute ECFP4 fingerprint from SMILES \n",
    "\n",
    "    Parameters: \n",
    "    smi (SMILES) : string  \n",
    "\n",
    "    Returns: \n",
    "    rdkit ECFP4 fingerprint object for mol\n",
    "    '''\n",
    "    mol=Chem.MolFromSmiles(smi,sanitize=True)\n",
    "    return AllChem.GetMorganFingerprint(mol, 2)\n",
    "\n",
    "def compute_tanimoto(mutated_selfies,fp_target):\n",
    "    if mutated_selfies:\n",
    "        smi= sf.decoder(mutated_selfies)\n",
    "        if smi:\n",
    "            fp_mol=smi2ECFP4(smi)\n",
    "            return TanimotoSimilarity(fp_mol,fp_target)\n",
    "        else: \n",
    "            return 0\n",
    "    else:\n",
    "        return 0\n",
    "\n",
    "def tanimoto_scoring(int_array,vocab_itos,fp_target):\n",
    "    mutated_selfies= int_array2selfies(int_array=int_array,vocab_itos=vocab_itos)\n",
    "    return compute_tanimoto(mutated_selfies=mutated_selfies,fp_target=fp_target)\n",
    "\n",
    "@njit\n",
    "def mutate_selfies(selfies,position,int_token):\n",
    "    ### replace token \n",
    "    selfies[position]=int_token\n",
    "    return selfies\n",
    "\n",
    "@njit(parallel=True)\n",
    "def multiprocess_mutate(selfies_tokens_list,pair_list):\n",
    "    for i in prange(len(selfies_tokens_list)):\n",
    "        selfies_tokens_list[i]=mutate_selfies(selfies_tokens_list[i],pair_list[i][0],pair_list[i][1])\n",
    "    return selfies_tokens_list\n",
    "\n",
    "@guvectorize([(int64[:], int64[:], int64[:])], '(n),(n)->(n)')\n",
    "def compute_identity(mutated_selfies_list,target_tokens_array,results):\n",
    "    for i in range(mutated_selfies_list.shape[0]):\n",
    "        if mutated_selfies_list[i]== target_tokens_array[i]:\n",
    "            results[i]=1\n",
    "        else:\n",
    "            results[i]=0\n",
    "\n",
    "# @njit\n",
    "def homology_scoring(identity_array,target_length):\n",
    "    sum_array=np.sum(identity_array,axis=1)\n",
    "    return sum_array/target_length\n",
    "\n",
    "@njit\n",
    "def do_sus(values_fitness,nb_childs):\n",
    "    total_fitness= np.sum(values_fitness)\n",
    "    pointer_distance=total_fitness/nb_childs\n",
    "    start= np.random.uniform(0,pointer_distance)\n",
    "    pointers=np.add(np.repeat(start,nb_childs),np.multiply(np.repeat(pointer_distance,nb_childs),np.arange(np.float64(nb_childs))))\n",
    "    index_to_keep=np.zeros(nb_childs,dtype=np.int64)\n",
    "    fitness_cumsum= np.cumsum(values_fitness)\n",
    "    fitness_index=0\n",
    "    for i in range(nb_childs):\n",
    "        while  pointers[i]> fitness_cumsum[fitness_index]:\n",
    "            fitness_index+=1\n",
    "        index_to_keep[i]= fitness_index\n",
    "    return index_to_keep\n",
    "    \n",
    "@njit(parallel=True)\n",
    "def multriprocess_crossover(parent_pop,tokens_length,descendant_pop_size,triplet_list):\n",
    "    descendant_pop=np.zeros((descendant_pop_size,tokens_length),dtype=np.int64)\n",
    "    counter=0\n",
    "    for i in prange(0,descendant_pop.shape[0]):\n",
    "        if i % 2:\n",
    "            descendant_pop[i]= np.concatenate((parent_pop[triplet_list[counter,0],:triplet_list[counter,2]],parent_pop[triplet_list[counter,1],triplet_list[counter,2]:]),axis=0)\n",
    "            descendant_pop[i]= np.concatenate((parent_pop[triplet_list[counter,1],:triplet_list[counter,2]],parent_pop[triplet_list[counter,0],triplet_list[counter,2]:]),axis=0)\n",
    "            counter+=1\n",
    "        else:\n",
    "            pass\n",
    "    return descendant_pop\n",
    "\n"
   ]
  },
  {
   "cell_type": "code",
   "execution_count": 3,
   "metadata": {},
   "outputs": [],
   "source": [
    "start_smiles='CC1=C(C2=C(CCC(O2)(C)COC3=CC=C(C=C3)CC4C(=O)NC(=O)S4)C(=C1O)C)C'\n",
    "pop_size=1000\n",
    "parent_pop_size=200000\n",
    "gen_max=1000\n",
    "descendant_pop_size= pop_size-parent_pop_size"
   ]
  },
  {
   "cell_type": "code",
   "execution_count": 4,
   "metadata": {},
   "outputs": [],
   "source": [
    "fp_target=smi2ECFP4(start_smiles)\n",
    "start_selfies= sf.encoder(start_smiles)\n",
    "tokens=selfies_split(start_selfies)\n",
    "counter= 0 \n",
    "vocab_stoi={}\n",
    "for token in tokens:\n",
    "    if token not in vocab_stoi:\n",
    "        vocab_stoi[token]=counter\n",
    "        counter+=1\n",
    "    else: \n",
    "        pass\n",
    "\n",
    "vocab_itos= {integer: token for token, integer in vocab_stoi.items()}\n",
    "target_tokens_array=tokens2int_array(tokens,vocab_stoi=vocab_stoi)\n",
    "pop=np.random.randint(len(vocab_stoi),size=(pop_size,len(tokens)))"
   ]
  },
  {
   "cell_type": "code",
   "execution_count": 5,
   "metadata": {},
   "outputs": [
    {
     "name": "stdout",
     "output_type": "stream",
     "text": [
      "generation n°0 it took 0.65 sec and max score is 0.21477056747216944 with max tanimoto: 0.12 and max homology: 0.20689655172413793\n",
      "generation n°1 it took 0.22 sec and max score is 0.24152923538230886 with max tanimoto: 0.1016949152542373 and max homology: 0.22413793103448276\n",
      "generation n°2 it took 0.23 sec and max score is 0.26067755595886266 with max tanimoto: 0.11926605504587157 and max homology: 0.2413793103448276\n",
      "generation n°3 it took 0.23 sec and max score is 0.2821501014198783 with max tanimoto: 0.11965811965811966 and max homology: 0.25862068965517243\n",
      "generation n°4 it took 0.24 sec and max score is 0.300055617352614 with max tanimoto: 0.13934426229508196 and max homology: 0.27586206896551724\n",
      "generation n°5 it took 0.26 sec and max score is 0.3172969966629588 with max tanimoto: 0.14516129032258066 and max homology: 0.29310344827586204\n",
      "generation n°6 it took 0.22 sec and max score is 0.3359448275862069 with max tanimoto: 0.14516129032258066 and max homology: 0.3103448275862069\n",
      "generation n°7 it took 0.23 sec and max score is 0.3531862068965517 with max tanimoto: 0.152 and max homology: 0.3275862068965517\n",
      "generation n°8 it took 0.24 sec and max score is 0.3704275862068966 with max tanimoto: 0.152 and max homology: 0.3448275862068966\n",
      "generation n°9 it took 0.38 sec and max score is 0.3876689655172414 with max tanimoto: 0.152 and max homology: 0.3620689655172414\n",
      "generation n°10 it took 0.23 sec and max score is 0.4049103448275862 with max tanimoto: 0.152 and max homology: 0.3793103448275862\n",
      "generation n°11 it took 0.22 sec and max score is 0.42215172413793106 with max tanimoto: 0.152 and max homology: 0.39655172413793105\n",
      "generation n°12 it took 0.33 sec and max score is 0.43939310344827587 with max tanimoto: 0.152 and max homology: 0.41379310344827586\n",
      "generation n°13 it took 0.24 sec and max score is 0.4566344827586207 with max tanimoto: 0.152 and max homology: 0.43103448275862066\n",
      "generation n°14 it took 0.22 sec and max score is 0.4794234030525721 with max tanimoto: 0.1557377049180328 and max homology: 0.4482758620689655\n",
      "generation n°15 it took 0.24 sec and max score is 0.4966647823629169 with max tanimoto: 0.16666666666666666 and max homology: 0.46551724137931033\n",
      "generation n°16 it took 0.38 sec and max score is 0.5139061616732618 with max tanimoto: 0.18181818181818182 and max homology: 0.4827586206896552\n",
      "generation n°17 it took 0.36 sec and max score is 0.5330578512396694 with max tanimoto: 0.18181818181818182 and max homology: 0.5\n",
      "generation n°18 it took 0.24 sec and max score is 0.5508548246884961 with max tanimoto: 0.2 and max homology: 0.5172413793103449\n",
      "generation n°19 it took 0.22 sec and max score is 0.5683810637054354 with max tanimoto: 0.1834862385321101 and max homology: 0.5344827586206896\n",
      "generation n°20 it took 0.23 sec and max score is 0.5858704793944491 with max tanimoto: 0.20175438596491227 and max homology: 0.5517241379310345\n",
      "generation n°21 it took 0.24 sec and max score is 0.603111858704794 with max tanimoto: 0.19166666666666668 and max homology: 0.5689655172413793\n",
      "generation n°22 it took 0.37 sec and max score is 0.6214068965517241 with max tanimoto: 0.19166666666666668 and max homology: 0.5862068965517241\n",
      "generation n°23 it took 0.24 sec and max score is 0.638648275862069 with max tanimoto: 0.1951219512195122 and max homology: 0.603448275862069\n",
      "generation n°24 it took 0.37 sec and max score is 0.6558896551724138 with max tanimoto: 0.1951219512195122 and max homology: 0.6206896551724138\n",
      "generation n°25 it took 0.36 sec and max score is 0.6731310344827587 with max tanimoto: 0.1951219512195122 and max homology: 0.6379310344827587\n",
      "generation n°26 it took 0.36 sec and max score is 0.6903724137931034 with max tanimoto: 0.1951219512195122 and max homology: 0.6551724137931034\n",
      "generation n°27 it took 0.34 sec and max score is 0.7076137931034483 with max tanimoto: 0.1951219512195122 and max homology: 0.6724137931034483\n",
      "generation n°28 it took 0.23 sec and max score is 0.7248551724137932 with max tanimoto: 0.1951219512195122 and max homology: 0.6896551724137931\n",
      "generation n°29 it took 0.22 sec and max score is 0.7420965517241379 with max tanimoto: 0.1951219512195122 and max homology: 0.7068965517241379\n",
      "generation n°30 it took 0.23 sec and max score is 0.7593379310344828 with max tanimoto: 0.1951219512195122 and max homology: 0.7241379310344828\n",
      "generation n°31 it took 0.22 sec and max score is 0.7765793103448276 with max tanimoto: 0.1951219512195122 and max homology: 0.7413793103448276\n",
      "generation n°32 it took 0.23 sec and max score is 0.7893899204244031 with max tanimoto: 0.20454545454545456 and max homology: 0.7586206896551724\n",
      "generation n°33 it took 0.22 sec and max score is 0.8112466843501326 with max tanimoto: 0.1951219512195122 and max homology: 0.7758620689655172\n",
      "generation n°34 it took 0.23 sec and max score is 0.8297446696499079 with max tanimoto: 0.23134328358208955 and max homology: 0.7931034482758621\n",
      "generation n°35 it took 0.22 sec and max score is 0.8447198275862069 with max tanimoto: 0.2196969696969697 and max homology: 0.8103448275862069\n",
      "generation n°36 it took 0.24 sec and max score is 0.8622318761878903 with max tanimoto: 0.2196969696969697 and max homology: 0.8275862068965517\n",
      "generation n°37 it took 0.39 sec and max score is 0.8925198938992043 with max tanimoto: 0.23846153846153847 and max homology: 0.8448275862068966\n",
      "generation n°38 it took 0.39 sec and max score is 0.909688013136289 with max tanimoto: 0.288 and max homology: 0.8620689655172413\n",
      "generation n°39 it took 0.37 sec and max score is 0.935048049745619 with max tanimoto: 0.29508196721311475 and max homology: 0.8793103448275862\n",
      "generation n°40 it took 0.34 sec and max score is 0.9513904338153504 with max tanimoto: 0.31451612903225806 and max homology: 0.896551724137931\n",
      "generation n°41 it took 0.33 sec and max score is 0.9700431034482759 with max tanimoto: 0.30952380952380953 and max homology: 0.9137931034482759\n",
      "generation n°42 it took 0.33 sec and max score is 1.0182139699381079 with max tanimoto: 0.4778761061946903 and max homology: 0.9310344827586207\n",
      "generation n°43 it took 0.35 sec and max score is 1.0630906768837804 with max tanimoto: 0.5740740740740741 and max homology: 0.9482758620689655\n",
      "generation n°44 it took 0.23 sec and max score is 1.0943633952254643 with max tanimoto: 0.6442307692307693 and max homology: 0.9655172413793104\n",
      "generation n°45 it took 0.22 sec and max score is 1.1239350912778905 with max tanimoto: 0.7058823529411765 and max homology: 0.9827586206896551\n",
      "generation n°46 it took 0.33 sec and max score is 1.1255172413793104 with max tanimoto: 0.8 and max homology: 0.9827586206896551\n",
      "generation n°47 it took 0.34 sec and max score is 1.1255172413793104 with max tanimoto: 0.8 and max homology: 0.9655172413793104\n",
      "generation n°48 it took 0.23 sec and max score is 1.1369252873563218 with max tanimoto: 0.8 and max homology: 0.9827586206896551\n"
     ]
    }
   ],
   "source": [
    "gen_counter=0\n",
    "\n",
    "while gen_counter < gen_max:\n",
    "\n",
    "    ### begin time counter\n",
    "    start= time.perf_counter()\n",
    "\n",
    "    ### scoring\n",
    "    identity_array=np.zeros(pop.shape,dtype=np.int64)\n",
    "    identity_array=compute_identity(pop,target_tokens_array)\n",
    "    homology_scores=homology_scoring(identity_array,len(target_tokens_array))\n",
    "    \n",
    "    ### scoring \n",
    "    with mp.Pool(4) as pool:\n",
    "        tanimoto_scores=np.array(pool.map(partial(tanimoto_scoring,vocab_itos=vocab_itos,fp_target=fp_target),pop))\n",
    "        pool.close()\n",
    "        pool.join()\n",
    "    \n",
    "    ### check if stop criterion is met\n",
    "    total_score= homology_scores + 0.2*tanimoto_scores\n",
    "    max_homology= np.max(homology_scores)\n",
    "    max_tanimoto= np.max(tanimoto_scores)\n",
    "    max_score=np.max(total_score)\n",
    "    if max_score== 1.2:\n",
    "        break\n",
    "    else:\n",
    "        pass\n",
    "    \n",
    "    seed= np.array((pop[total_score.argmax()],pop[total_score.argmax()]))\n",
    "    pop= np.repeat(seed,pop_size/2,axis=0)\n",
    "\n",
    "    # ### check if stop criterion is met\n",
    "    # max_score=np.max(homology_scores)\n",
    "    # if max_score== 1:\n",
    "    #     break\n",
    "    # else:\n",
    "    #     pass\n",
    "    \n",
    "    # seed= np.array((pop[homology_scores.argmax()],pop[homology_scores.argmax()]))\n",
    "    # pop= np.repeat(seed,pop_size/2,axis=0)\n",
    "    \n",
    "\n",
    "    # ### selection\n",
    "    # index_to_keep=do_sus(homology_scores,parent_pop_size)\n",
    "    # parent_pop= pop[index_to_keep]\n",
    "\n",
    "    # ### crossover\n",
    "    # triplet_list=np.random.randint(0,[parent_pop_size,parent_pop_size,len(tokens)-1],size=(descendant_pop_size//2,3))\n",
    "    # descendant_pop=multriprocess_crossover(parent_pop,len(tokens),descendant_pop_size,triplet_list)\n",
    "    # pop= np.concatenate((parent_pop,descendant_pop),axis=0)\n",
    "\n",
    "    ### mutation\n",
    "    pair_list=np.random.randint(0,[len(tokens),len(vocab_itos)],size=(pop_size,2))\n",
    "    pop=multiprocess_mutate(pop,pair_list)\n",
    "\n",
    "    ### print statement \n",
    "    duration= time.perf_counter()-start\n",
    "    print(f'generation n°{gen_counter} it took {duration:.2f} sec and max score is {max_score} with max tanimoto: {max_tanimoto} and max homology: {max_homology}')\n",
    "\n",
    "    ### increment generation\n",
    "    gen_counter+=1\n",
    "\n"
   ]
  },
  {
   "cell_type": "code",
   "execution_count": 7,
   "metadata": {},
   "outputs": [],
   "source": [
    "mutated_selfies_list="
   ]
  },
  {
   "cell_type": "code",
   "execution_count": 9,
   "metadata": {},
   "outputs": [],
   "source": [
    "with mp.Pool(4) as pool:\n",
    "    tanimoto_scores=np.array(pool.map(partial(tanimoto_scoring,vocab_itos=vocab_itos,fp_target=fp_target),mutated_selfies_list))\n",
    "    pool.close()\n",
    "    pool.join()"
   ]
  },
  {
   "cell_type": "code",
   "execution_count": 41,
   "metadata": {},
   "outputs": [
    {
     "data": {
      "text/plain": [
       "1023"
      ]
     },
     "execution_count": 41,
     "metadata": {},
     "output_type": "execute_result"
    }
   ],
   "source": [
    "len(set(tanimoto_scores))"
   ]
  },
  {
   "cell_type": "code",
   "execution_count": 9,
   "metadata": {},
   "outputs": [],
   "source": [
    "# @njit(nogil=True)\n",
    "# def levenshtein_dist(target_tokens_array,mutated_selfies):\n",
    "#     \"\"\" Levenshtein distance\n",
    "#           using Dynamic-Programming strategy\n",
    "#     Parameters\n",
    "#     ----------\n",
    "#     target_tokens_array,mutated_selfies : np.array of integers\n",
    "#     Returns\n",
    "#     -------\n",
    "#     int : distance\n",
    "#     np.array : distance matrix\n",
    "#     \"\"\"\n",
    "#     lev_matrix=np.zeros((len(target_tokens_array), len(target_tokens_array)),dtype=np.int64)\n",
    "#     for i in range(len(target_tokens_array)):\n",
    "#         for j in range(len(mutated_selfies)):\n",
    "#             # we did this before (for when i or j are 0)\n",
    "#             if min([i, j]) == 0:\n",
    "#                 lev_matrix[i, j] = max([i, j])\n",
    "#             else:\n",
    "#                 # calculate our three possible operations\n",
    "#                 x = lev_matrix[i-1, j]  # deletion\n",
    "#                 y = lev_matrix[i, j-1]  # insertion\n",
    "#                 z = lev_matrix[i-1, j-1]  # substitution\n",
    "#                 # take the minimum (eg best path/operation)\n",
    "#                 lev_matrix[i, j] = min([x, y, z])\n",
    "#                 # and if our two current characters don't match, add 1\n",
    "#                 if target_tokens_array[i] != mutated_selfies[j]:\n",
    "#                     # if we have a match, don't add 1\n",
    "#                     lev_matrix[i, j] += 1\n",
    "#     return lev_matrix[-1,-1]\n",
    "\n",
    "# @njit(nogil=True)\n",
    "# def fitness_scoring(target_selfies,mutated_selfies,):\n",
    "#     return 1/(1+levenshtein_dist(target_selfies,mutated_selfies))\n",
    "\n",
    "# @njit(parallel=True)\n",
    "# def multiprocess_fitness_scoring(target_tokens_array,mutated_selfies_list):\n",
    "#     size=mutated_selfies_list.shape\n",
    "#     results=np.zeros(size[0],dtype=np.float64)\n",
    "#     for i in prange(len(mutated_selfies_list)):\n",
    "#         results[i]=fitness_scoring(target_tokens_array,mutated_selfies_list[i])\n",
    "#     return results\n",
    "\n",
    "# # @njit\n",
    "# def wrapper_fitness_scoring(target_tokens_array,mutated_selfies_list):\n",
    "#     size=mutated_selfies_list.shape\n",
    "#     results=np.zeros(size[0],dtype=np.float64)\n",
    "#     for i in range(len(mutated_selfies_list)):\n",
    "#         results[i]=fitness_scoring(target_tokens_array,mutated_selfies_list[i])\n",
    "#     return results"
   ]
  },
  {
   "cell_type": "code",
   "execution_count": 14,
   "metadata": {},
   "outputs": [],
   "source": [
    "# @vectorize([int64(int64,int64)],nopython=True)\n",
    "# def compute_identity(ref_token,mutated_token):\n",
    "#     if ref_token==mutated_token:\n",
    "#         return 1\n",
    "#     else:\n",
    "#         return 0\n",
    "# @njit\n",
    "# def homology_scoring (target_tokens_array,mutated_selfies):\n",
    "#     homology_score=0.\n",
    "#     identity_array=compute_identity(target_tokens_array,mutated_selfies)\n",
    "#     homology_score= np.sum(identity_array)/len(target_tokens_array)\n",
    "#     return homology_score"
   ]
  },
  {
   "cell_type": "code",
   "execution_count": null,
   "metadata": {},
   "outputs": [],
   "source": []
  },
  {
   "cell_type": "code",
   "execution_count": 59,
   "metadata": {},
   "outputs": [],
   "source": [
    "\n"
   ]
  },
  {
   "cell_type": "code",
   "execution_count": 60,
   "metadata": {},
   "outputs": [
    {
     "data": {
      "text/plain": [
       "(400000, 3)"
      ]
     },
     "execution_count": 60,
     "metadata": {},
     "output_type": "execute_result"
    }
   ],
   "source": [
    "\n",
    "\n",
    "triplet_list.shape"
   ]
  },
  {
   "cell_type": "code",
   "execution_count": 62,
   "metadata": {},
   "outputs": [],
   "source": []
  },
  {
   "cell_type": "code",
   "execution_count": 63,
   "metadata": {},
   "outputs": [],
   "source": []
  },
  {
   "cell_type": "code",
   "execution_count": 64,
   "metadata": {},
   "outputs": [
    {
     "data": {
      "text/plain": [
       "array([10,  0,  5,  4,  4,  4,  0, 10, 10,  2,  7, 10])"
      ]
     },
     "execution_count": 64,
     "metadata": {},
     "output_type": "execute_result"
    }
   ],
   "source": [
    "parent_pop[0,:12]"
   ]
  },
  {
   "cell_type": "code",
   "execution_count": 71,
   "metadata": {},
   "outputs": [
    {
     "data": {
      "text/plain": [
       "array([ 7,  7,  2,  1,  6,  8,  1,  6,  4,  3,  7, 10,  6,  0,  5, 10,  8,\n",
       "        4,  4,  3,  9,  6,  4,  3,  3])"
      ]
     },
     "execution_count": 71,
     "metadata": {},
     "output_type": "execute_result"
    }
   ],
   "source": [
    "counter=0\n",
    "parent_pop[triplet_list[counter,0],:triplet_list[counter,2]]"
   ]
  },
  {
   "cell_type": "code",
   "execution_count": 80,
   "metadata": {},
   "outputs": [
    {
     "name": "stdout",
     "output_type": "stream",
     "text": [
      "145 ms ± 4.97 ms per loop (mean ± std. dev. of 7 runs, 10 loops each)\n"
     ]
    }
   ],
   "source": [
    "%%timeit\n"
   ]
  },
  {
   "cell_type": "code",
   "execution_count": 79,
   "metadata": {},
   "outputs": [
    {
     "name": "stdout",
     "output_type": "stream",
     "text": [
      "50.7 ns ± 0.0735 ns per loop (mean ± std. dev. of 7 runs, 10000000 loops each)\n"
     ]
    }
   ],
   "source": [
    "%%timeit\n",
    "descendant_pop.shape"
   ]
  },
  {
   "cell_type": "code",
   "execution_count": 78,
   "metadata": {},
   "outputs": [],
   "source": [
    "new_pop=np.repeat(new_pop,coef,axis=0)"
   ]
  },
  {
   "cell_type": "code",
   "execution_count": null,
   "metadata": {},
   "outputs": [],
   "source": [
    "def()"
   ]
  }
 ],
 "metadata": {
  "kernelspec": {
   "display_name": "Python 3 (ipykernel)",
   "language": "python",
   "name": "python3"
  },
  "language_info": {
   "codemirror_mode": {
    "name": "ipython",
    "version": 3
   },
   "file_extension": ".py",
   "mimetype": "text/x-python",
   "name": "python",
   "nbconvert_exporter": "python",
   "pygments_lexer": "ipython3",
   "version": "3.7.13 (default, Mar 29 2022, 02:18:16) \n[GCC 7.5.0]"
  },
  "orig_nbformat": 4,
  "vscode": {
   "interpreter": {
    "hash": "719a7e0837ffc6015e8ae120b07abc6deeaa7614c7e125c6b061d37b0d915f7a"
   }
  }
 },
 "nbformat": 4,
 "nbformat_minor": 2
}
